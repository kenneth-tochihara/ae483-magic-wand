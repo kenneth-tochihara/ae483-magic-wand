{
 "cells": [
  {
   "cell_type": "markdown",
   "id": "f4233d19",
   "metadata": {},
   "source": [
    "<h1>Nintendo Wii remote controlled Graphical User Interface for CrazyFlie Drone</h1> <br>\n",
    "AE483: Autonomous Systems, Fall 2021<br>\n",
    "Erika Jarosch, George Petrov, Justin Roskamp, Kenneth Tochihara"
   ]
  },
  {
   "cell_type": "markdown",
   "id": "e5c93373",
   "metadata": {},
   "source": [
    "ReadMe <br/>\n",
    "instructions for importing non-og modules <br/>\n",
    "diff between mac and windows?"
   ]
  },
  {
   "cell_type": "markdown",
   "id": "38bcc561",
   "metadata": {},
   "source": [
    "Import modules."
   ]
  },
  {
   "cell_type": "code",
   "execution_count": 3,
   "id": "ee488f94",
   "metadata": {},
   "outputs": [],
   "source": [
    "import numpy as np\n",
    "import sympy as sym\n",
    "import json\n",
    "import matplotlib.pyplot as plt\n",
    "from scipy import linalg\n",
    "from scipy.interpolate import interp1d"
   ]
  },
  {
   "cell_type": "markdown",
   "id": "d12e67ad",
   "metadata": {},
   "source": [
    "# 1. Development of Code"
   ]
  },
  {
   "cell_type": "markdown",
   "id": "c8d7e724",
   "metadata": {},
   "source": [
    "### 1.1 GUI.py"
   ]
  },
  {
   "cell_type": "markdown",
   "id": "4af1b997",
   "metadata": {},
   "source": []
  },
  {
   "cell_type": "markdown",
   "id": "67898e88",
   "metadata": {},
   "source": [
    "# 2. Run the GUI"
   ]
  },
  {
   "cell_type": "markdown",
   "id": "5a6c9420",
   "metadata": {},
   "source": [
    "#### Running the following box should generate the interface"
   ]
  },
  {
   "cell_type": "code",
   "execution_count": 4,
   "id": "944d2e84",
   "metadata": {},
   "outputs": [],
   "source": [
    "!./run"
   ]
  },
  {
   "cell_type": "markdown",
   "id": "82ea26d3",
   "metadata": {},
   "source": [
    "# 3. Draw Image and Save Data "
   ]
  },
  {
   "cell_type": "markdown",
   "id": "8dd93c54",
   "metadata": {},
   "source": [
    "Now connect the Nintendo Wii Remote to your computer."
   ]
  },
  {
   "cell_type": "code",
   "execution_count": null,
   "id": "32685da5",
   "metadata": {},
   "outputs": [],
   "source": []
  },
  {
   "cell_type": "markdown",
   "id": "ffefd660",
   "metadata": {},
   "source": [
    "The following cell contains a code snippet that details how the flight data is saved into the same directory. This can be found in the gui.py file. The \"hardware_data\" json file can then be loaded and parsed through in the following section."
   ]
  },
  {
   "cell_type": "markdown",
   "id": "4a33e495",
   "metadata": {},
   "source": [
    "'''\n",
    "        # save flight data to directory\n",
    "        directory_name = \"data/\" + time.strftime(\"%Y%m%d-%H%M%S\")\n",
    "        os.mkdir(directory_name)\n",
    "        os.replace(\"src/hardware_data.json\", directory_name + \"/hardware_data.json\")\n",
    "        im = ImageGrab.grab()\n",
    "        im.save(directory_name + '/gui.png')\n",
    "'''"
   ]
  },
  {
   "cell_type": "markdown",
   "id": "d2af228a",
   "metadata": {},
   "source": [
    "# 4. Load Data and Parse Results"
   ]
  },
  {
   "cell_type": "markdown",
   "id": "c5f8e3cf",
   "metadata": {},
   "source": [
    "#### Film a video of your test flight on a hand-held phone device, then import and save the video as \"hardware_video.mov\" in the same directory as this notebook."
   ]
  },
  {
   "cell_type": "markdown",
   "id": "7831440c",
   "metadata": {},
   "source": [
    "\n",
    "##### Markdown\n",
    "\n",
    "Put your video in the same directory as this notebook. Suppose this video is called `hardware_video.mov`. Then put the following code in a cell of type `Markdown` and evaluate it:\n",
    "```\n",
    "![some descriptive title for my video](hardware_video.mov)\n",
    "```\n",
    "\n",
    "##### HTML\n",
    "Put your video in the same directory as this notebook. Suppose this video is called `hardware_video.mov`. Then put the following code in a cell of type `Code` and evaluate it:\n",
    "```\n",
    "%%HTML\n",
    "<video width=\"480\" controls>\n",
    "    <source src=\"data/{INSERT_DATE_TIME}/hardware_video.mov\">\n",
    "</video>\n",
    "```\n",
    "You can change the `width` parameter to resize your video."
   ]
  },
  {
   "cell_type": "markdown",
   "id": "dfa1cf7e",
   "metadata": {},
   "source": [
    "#### Load flight test data."
   ]
  },
  {
   "cell_type": "markdown",
   "id": "0daf86a6",
   "metadata": {},
   "source": [
    "Define a function to load data from a hardware flight test and resample it at 100 Hz using linear interpolation. If only_in_flight=True, then only data for which the desired position was positive (i.e., \"trying to fly\" rather than \"sitting on the ground\") will be returned."
   ]
  },
  {
   "cell_type": "code",
   "execution_count": null,
   "id": "e362fde4",
   "metadata": {},
   "outputs": [],
   "source": [
    "def load_hardware_data(filename, t_min_offset=0, t_max_offset=0, only_in_flight=False):\n",
    "    # load raw data\n",
    "    with open(filename, 'r') as f:\n",
    "        data = json.load(f)\n",
    "\n",
    "    # convert lists to numpy arrays\n",
    "    for val in data.values():\n",
    "        for key in val.keys():\n",
    "            val[key] = np.array(val[key])\n",
    "\n",
    "    # create an array of times at which to subsample\n",
    "    t_min = -np.inf\n",
    "    t_max = np.inf\n",
    "    for key, val in data.items():\n",
    "        t_min = max(t_min, val['time'][0])\n",
    "        t_max = min(t_max, val['time'][-1])\n",
    "    t_min += t_min_offset * 1000\n",
    "    t_max -= t_max_offset * 1000\n",
    "    nt = int(1 + np.floor((t_max - t_min) / 10.))\n",
    "    t = np.arange(0, 10 * nt, 10) / 1000.\n",
    "    resampled_data = {'time': t}\n",
    "\n",
    "    # resample raw data with linear interpolation\n",
    "    for k, v in data.items():\n",
    "        f = interp1d((v['time'] - t_min) / 1000., v['data'])\n",
    "        resampled_data[k] = f(t)\n",
    "    \n",
    "    # truncate to times when o_z_des is positive\n",
    "    if only_in_flight:\n",
    "        i = []\n",
    "        for k in ['ae483log.o_z_des', 'ctrltarget.z']:\n",
    "            if k in resampled_data.keys():\n",
    "                j = np.argwhere(resampled_data[k] > 0).flatten()\n",
    "                if len(j) > len(i):\n",
    "                    i = j\n",
    "        if len(i) < 2:\n",
    "            raise Exception(\n",
    "                'Failed to get \"only_in_flight\" data.\\n' + \\\n",
    "                ' - Did you remember to log \"ae483log.o_z_des\" and was it ever positive?\\n' + \\\n",
    "                ' - Did you remember to log \"ctrltarget.z\" and was it ever positive?\\n'\n",
    "            )\n",
    "        for key in resampled_data.keys():\n",
    "            resampled_data[key] = resampled_data[key][i[0]:i[-1]]\n",
    "        \n",
    "    # return the resampled data\n",
    "    return resampled_data"
   ]
  },
  {
   "cell_type": "code",
   "execution_count": null,
   "id": "f4d51def",
   "metadata": {},
   "outputs": [],
   "source": [
    "data = load_hardware_data(\n",
    "    'data/{INSERT_DATE_TIME}/hardware_data.json',  # <--- FIX ME\n",
    "    t_min_offset=0.,\n",
    "    t_max_offset=0.,\n",
    "    only_in_flight=True,\n",
    ")"
   ]
  },
  {
   "cell_type": "markdown",
   "id": "351dfc0e",
   "metadata": {},
   "source": [
    "Parse flight test data."
   ]
  },
  {
   "cell_type": "code",
   "execution_count": null,
   "id": "2389614a",
   "metadata": {},
   "outputs": [],
   "source": [
    "# time\n",
    "t = data['time']\n",
    "\n",
    "# states\n",
    "o_x_true = data['ae483log.o_x']\n",
    "o_y_true = data['ae483log.o_y']\n",
    "o_z_true = data['ae483log.o_z']"
   ]
  },
  {
   "cell_type": "markdown",
   "id": "d208de86",
   "metadata": {},
   "source": [
    "Define parameter values."
   ]
  },
  {
   "cell_type": "code",
   "execution_count": null,
   "id": "22cb2806",
   "metadata": {},
   "outputs": [],
   "source": [
    "# Acceleration of gravity\n",
    "g = 9.81\n",
    "\n",
    "# Optical flow constant (do not change)\n",
    "k_flow = 0.01 * 30.0 / np.deg2rad(4.2)\n",
    "\n",
    "# Equilibrium value of o_z\n",
    "o_z_eq = 0. # <-- FIXME: replace with the equilibrium height you chose in Lab 7\n",
    "\n",
    "# Time step (should be 0.01)\n",
    "dt = t[1] - t[0]\n",
    "print(f'dt = {dt:.4f} (should be 0.01)')"
   ]
  },
  {
   "cell_type": "markdown",
   "id": "ef6b2731",
   "metadata": {},
   "source": [
    "## 3.3 Apply observer for gain matrix chosen by equal weights"
   ]
  },
  {
   "cell_type": "code",
   "execution_count": null,
   "id": "988ef890",
   "metadata": {},
   "outputs": [],
   "source": [
    "def comparison_plot(t, s_hat, s_true, name, ax):\n",
    "    ax.plot(t, s_hat, label=f'{name} (estimated)', linewidth=3)\n",
    "    ax.plot(t, s_true, '--', label=f'{name} (true)', linewidth=2)\n",
    "    ax.legend()\n",
    "    ax.grid()\n",
    "\n",
    "fig, (ax_o_x,\n",
    "      ax_o_y,\n",
    "      ax_o_z,\n",
    "      ax_psi,\n",
    "      ax_theta,\n",
    "      ax_phi,\n",
    "      ax_v_x,\n",
    "      ax_v_y,\n",
    "      ax_v_z) = plt.subplots(9, 1, figsize=(15, 25), sharex=True)\n",
    "comparison_plot(t, o_x_hat, o_x_true, 'o_x', ax_o_x)\n",
    "comparison_plot(t, o_y_hat, o_y_true, 'o_y', ax_o_y)\n",
    "comparison_plot(t, o_z_hat, o_z_true, 'o_z', ax_o_z)\n",
    "comparison_plot(t, psi_hat, psi_true, 'psi', ax_psi)\n",
    "comparison_plot(t, theta_hat, theta_true, 'theta', ax_theta)\n",
    "comparison_plot(t, phi_hat, phi_true, 'phi', ax_phi)\n",
    "comparison_plot(t, v_x_hat, v_x_true, 'v_x', ax_v_x)\n",
    "comparison_plot(t, v_y_hat, v_y_true, 'v_y', ax_v_y)\n",
    "comparison_plot(t, v_z_hat, v_z_true, 'v_z', ax_v_z)\n",
    "ax_v_z.set_xlabel('time (s)')\n",
    "plt.show()"
   ]
  },
  {
   "cell_type": "markdown",
   "id": "34c65ac4",
   "metadata": {},
   "source": [
    "Plot error in each state estimate with respect to ground truth."
   ]
  },
  {
   "cell_type": "code",
   "execution_count": null,
   "id": "fffdc60b",
   "metadata": {},
   "outputs": [],
   "source": [
    "def error_plot(t, s_err, name, ax):\n",
    "    ax.plot(t, s_err, label=f'{name} (error)', linewidth=3)\n",
    "    ax.legend()\n",
    "    ax.grid()\n",
    "\n",
    "fig, (ax_o_x,\n",
    "      ax_o_y,\n",
    "      ax_o_z,\n",
    "      ax_psi,\n",
    "      ax_theta,\n",
    "      ax_phi,\n",
    "      ax_v_x,\n",
    "      ax_v_y,\n",
    "      ax_v_z) = plt.subplots(9, 1, figsize=(15, 25), sharex=True)\n",
    "error_plot(t, o_x_err, 'o_x', ax_o_x)\n",
    "error_plot(t, o_y_err, 'o_y', ax_o_y)\n",
    "error_plot(t, o_z_err, 'o_z', ax_o_z)\n",
    "error_plot(t, psi_err, 'psi', ax_psi)\n",
    "error_plot(t, theta_err, 'theta', ax_theta)\n",
    "error_plot(t, phi_err, 'phi', ax_phi)\n",
    "error_plot(t, v_x_err, 'v_x', ax_v_x)\n",
    "error_plot(t, v_y_err, 'v_y', ax_v_y)\n",
    "error_plot(t, v_z_err, 'v_z', ax_v_z)\n",
    "ax_v_z.set_xlabel('time (s)')\n",
    "plt.show()"
   ]
  },
  {
   "cell_type": "markdown",
   "id": "48b1352b",
   "metadata": {},
   "source": [
    "Plot histogram of errors in each state estimate."
   ]
  },
  {
   "cell_type": "code",
   "execution_count": null,
   "id": "385f864d",
   "metadata": {},
   "outputs": [],
   "source": [
    "def histogram_plot(t, s_err, name, ax):\n",
    "    label = f'Error in estimate of {name} ' + \\\n",
    "            f'(RMSE = {np.sqrt(np.mean(s_err**2)):6.3f}, ' + \\\n",
    "            f'mean = {np.mean(s_err):6.3f}, ' + \\\n",
    "            f'std = {np.std(s_err):6.3f})'\n",
    "    ax.hist(s_err, 50, label=label)\n",
    "    ax.legend(fontsize=14)\n",
    "\n",
    "fig, (ax_o_x,\n",
    "      ax_o_y,\n",
    "      ax_o_z,\n",
    "      ax_psi,\n",
    "      ax_theta,\n",
    "      ax_phi,\n",
    "      ax_v_x,\n",
    "      ax_v_y,\n",
    "      ax_v_z) = plt.subplots(9, 1, figsize=(15, 25))\n",
    "histogram_plot(t, o_x_err, 'o_x', ax_o_x)\n",
    "histogram_plot(t, o_y_err, 'o_y', ax_o_y)\n",
    "histogram_plot(t, o_z_err, 'o_z', ax_o_z)\n",
    "histogram_plot(t, psi_err, 'psi', ax_psi)\n",
    "histogram_plot(t, theta_err, 'theta', ax_theta)\n",
    "histogram_plot(t, phi_err, 'phi', ax_phi)\n",
    "histogram_plot(t, v_x_err, 'v_x', ax_v_x)\n",
    "histogram_plot(t, v_y_err, 'v_y', ax_v_y)\n",
    "histogram_plot(t, v_z_err, 'v_z', ax_v_z)\n",
    "fig.tight_layout()\n",
    "plt.show()"
   ]
  },
  {
   "cell_type": "markdown",
   "id": "ceedcdf4",
   "metadata": {},
   "source": [
    "## 3.5 Summary and discussion"
   ]
  }
 ],
 "metadata": {
  "kernelspec": {
   "display_name": "Python 3 (ipykernel)",
   "language": "python",
   "name": "python3"
  },
  "language_info": {
   "codemirror_mode": {
    "name": "ipython",
    "version": 3
   },
   "file_extension": ".py",
   "mimetype": "text/x-python",
   "name": "python",
   "nbconvert_exporter": "python",
   "pygments_lexer": "ipython3",
   "version": "3.9.5"
  }
 },
 "nbformat": 4,
 "nbformat_minor": 5
}
